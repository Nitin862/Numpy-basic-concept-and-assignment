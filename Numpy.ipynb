{
 "cells": [
  {
   "cell_type": "code",
   "execution_count": 1,
   "id": "a3dc0abd-a6b7-411d-9324-44c1efded777",
   "metadata": {},
   "outputs": [
    {
     "data": {
      "text/plain": [
       "'Consider the below code to answer further questions:\\nimport numpy as np\\nlist_ = [ ‘1’ , ’2’ , ‘3’ , ‘4’ , ‘5’ ]\\narray_list = np.array(object = list_)\\nQ1. Is there any difference in the data type of variables list_ and array_list? If there is then write a code\\nto print the data types of both the variables.'"
      ]
     },
     "execution_count": 1,
     "metadata": {},
     "output_type": "execute_result"
    }
   ],
   "source": [
    "'''Consider the below code to answer further questions:\n",
    "import numpy as np\n",
    "list_ = [ ‘1’ , ’2’ , ‘3’ , ‘4’ , ‘5’ ]\n",
    "array_list = np.array(object = list_)\n",
    "Q1. Is there any difference in the data type of variables list_ and array_list? If there is then write a code\n",
    "to print the data types of both the variables.'''"
   ]
  },
  {
   "cell_type": "code",
   "execution_count": 2,
   "id": "3a40c3a2-b525-48c2-98e7-d65e4cec6e42",
   "metadata": {},
   "outputs": [
    {
     "data": {
      "text/plain": [
       "'yes there is difeerence between the data type of two.\\nThe data type of list is list having string data type as element\\nThe data type of array_list is array'"
      ]
     },
     "execution_count": 2,
     "metadata": {},
     "output_type": "execute_result"
    }
   ],
   "source": [
    "'''yes there is difeerence between the data type of two.\n",
    "The data type of list is list having string data type as element\n",
    "The data type of array_list is array'''"
   ]
  },
  {
   "cell_type": "code",
   "execution_count": 6,
   "id": "5d3becdb-1ba9-409e-8bf9-bb639d0808f4",
   "metadata": {},
   "outputs": [
    {
     "name": "stdout",
     "output_type": "stream",
     "text": [
      "<class 'list'> <class 'numpy.ndarray'>\n"
     ]
    }
   ],
   "source": [
    "import numpy as np\n",
    "list_ = [ '1' , '2' , '3' , '4' , '5']\n",
    "array_list = np.array(object = list_)\n",
    "print(type(list_),type(array_list))"
   ]
  },
  {
   "cell_type": "code",
   "execution_count": 7,
   "id": "c675a857-3ff7-448c-b86f-aa1812297c3c",
   "metadata": {},
   "outputs": [
    {
     "data": {
      "text/plain": [
       "'Q2. Write a code to print the data type of each and every element of both the variables list_ and\\narra_list.'"
      ]
     },
     "execution_count": 7,
     "metadata": {},
     "output_type": "execute_result"
    }
   ],
   "source": [
    "'''Q2. Write a code to print the data type of each and every element of both the variables list_ and\n",
    "arra_list.'''"
   ]
  },
  {
   "cell_type": "code",
   "execution_count": 8,
   "id": "73594b8c-1011-4c14-85a1-3da17c7f64ed",
   "metadata": {},
   "outputs": [
    {
     "name": "stdout",
     "output_type": "stream",
     "text": [
      "<class 'str'>\n",
      "<class 'str'>\n",
      "<class 'str'>\n",
      "<class 'str'>\n",
      "<class 'str'>\n"
     ]
    }
   ],
   "source": [
    "for i in list_:\n",
    "    print(type(i))"
   ]
  },
  {
   "cell_type": "code",
   "execution_count": 9,
   "id": "0086c831-60ea-4a56-859a-bf3652a88e76",
   "metadata": {},
   "outputs": [
    {
     "name": "stdout",
     "output_type": "stream",
     "text": [
      "<class 'numpy.str_'>\n",
      "<class 'numpy.str_'>\n",
      "<class 'numpy.str_'>\n",
      "<class 'numpy.str_'>\n",
      "<class 'numpy.str_'>\n"
     ]
    }
   ],
   "source": [
    "for i in array_list:\n",
    "    print(type(i))"
   ]
  },
  {
   "cell_type": "code",
   "execution_count": 10,
   "id": "a3bf7693-8d75-4c03-bdb2-d45e7ca2c42a",
   "metadata": {},
   "outputs": [
    {
     "data": {
      "text/plain": [
       "'Q3. Considering the following changes in the variable, array_list:\\narray_list = np.array(object = list_, dtype = int)\\nWill there be any difference in the data type of the elements present in both the variables, list_ and\\narra_list? If so then print the data types of each and every element present in both the variables, list_\\nand arra_list.\\nConsider the below code to answer further questions:\\nimport numpy as np\\nnum_list = [ [ 1 , 2 , 3 ] , [ 4 , 5 , 6 ] ]\\nnum_array = np.array(object = num_list)'"
      ]
     },
     "execution_count": 10,
     "metadata": {},
     "output_type": "execute_result"
    }
   ],
   "source": [
    "'''Q3. Considering the following changes in the variable, array_list:\n",
    "array_list = np.array(object = list_, dtype = int)\n",
    "Will there be any difference in the data type of the elements present in both the variables, list_ and\n",
    "arra_list? If so then print the data types of each and every element present in both the variables, list_\n",
    "and arra_list.\n",
    "Consider the below code to answer further questions:\n",
    "import numpy as np\n",
    "num_list = [ [ 1 , 2 , 3 ] , [ 4 , 5 , 6 ] ]\n",
    "num_array = np.array(object = num_list)'''"
   ]
  },
  {
   "cell_type": "code",
   "execution_count": 18,
   "id": "981cbeec-bcf1-47ad-8fba-f34949141ef4",
   "metadata": {},
   "outputs": [],
   "source": [
    "num_list = [ [ 1 , 2 , 3 ] , [ 4 , 5 , 6 ] ]\n",
    "num_array = np.array(object = num_list)\n"
   ]
  },
  {
   "cell_type": "code",
   "execution_count": 19,
   "id": "0008df98-b7da-4476-b8ff-b1f9b9bae58d",
   "metadata": {},
   "outputs": [
    {
     "name": "stdout",
     "output_type": "stream",
     "text": [
      "<class 'list'>\n",
      "<class 'list'>\n"
     ]
    }
   ],
   "source": [
    "for i in num_list:\n",
    "    print(type(i))"
   ]
  },
  {
   "cell_type": "code",
   "execution_count": 27,
   "id": "9762585a-daad-43f4-86ee-56d145505bc7",
   "metadata": {},
   "outputs": [
    {
     "name": "stdout",
     "output_type": "stream",
     "text": [
      "<class 'numpy.ndarray'>\n",
      "<class 'numpy.ndarray'>\n"
     ]
    }
   ],
   "source": [
    "for i in num_array:\n",
    "    print(type(i))"
   ]
  },
  {
   "cell_type": "code",
   "execution_count": 28,
   "id": "4d538b59-81c3-4380-a80b-27ee65de1485",
   "metadata": {},
   "outputs": [
    {
     "data": {
      "text/plain": [
       "'clearly, the type of data type of the elemnt is different.'"
      ]
     },
     "execution_count": 28,
     "metadata": {},
     "output_type": "execute_result"
    }
   ],
   "source": [
    "'''clearly, the type of data type of the elemnt is different.'''"
   ]
  },
  {
   "cell_type": "code",
   "execution_count": 29,
   "id": "744cd603-426e-4c15-a9b3-564c8d4c7d98",
   "metadata": {},
   "outputs": [
    {
     "data": {
      "text/plain": [
       "'Q4. Write a code to find the following characteristics of variable, num_array:\\n(i) shape\\n(ii) size'"
      ]
     },
     "execution_count": 29,
     "metadata": {},
     "output_type": "execute_result"
    }
   ],
   "source": [
    "'''Q4. Write a code to find the following characteristics of variable, num_array:\n",
    "(i) shape\n",
    "(ii) size'''"
   ]
  },
  {
   "cell_type": "code",
   "execution_count": 35,
   "id": "cd13f830-9fa0-46d2-b457-0f1401b06ad2",
   "metadata": {},
   "outputs": [
    {
     "data": {
      "text/plain": [
       "(2, 3)"
      ]
     },
     "execution_count": 35,
     "metadata": {},
     "output_type": "execute_result"
    }
   ],
   "source": [
    "num_array.shape"
   ]
  },
  {
   "cell_type": "code",
   "execution_count": 36,
   "id": "ba9e9669-2586-472e-a019-34d1e4e55dea",
   "metadata": {},
   "outputs": [
    {
     "data": {
      "text/plain": [
       "6"
      ]
     },
     "execution_count": 36,
     "metadata": {},
     "output_type": "execute_result"
    }
   ],
   "source": [
    "num_array.size"
   ]
  },
  {
   "cell_type": "code",
   "execution_count": 37,
   "id": "1f2045f4-6cac-4898-8111-e841247472e5",
   "metadata": {},
   "outputs": [
    {
     "data": {
      "text/plain": [
       "'Q5. Write a code to create numpy array of 3*3 matrix containing zeros only, using a numpy array\\ncreation function.'"
      ]
     },
     "execution_count": 37,
     "metadata": {},
     "output_type": "execute_result"
    }
   ],
   "source": [
    "'''Q5. Write a code to create numpy array of 3*3 matrix containing zeros only, using a numpy array\n",
    "creation function.'''"
   ]
  },
  {
   "cell_type": "code",
   "execution_count": 41,
   "id": "8f9b5660-f477-4d51-b3e3-02e38de18972",
   "metadata": {},
   "outputs": [
    {
     "data": {
      "text/plain": [
       "array([[0., 0., 0.],\n",
       "       [0., 0., 0.],\n",
       "       [0., 0., 0.]])"
      ]
     },
     "execution_count": 41,
     "metadata": {},
     "output_type": "execute_result"
    }
   ],
   "source": [
    "np.zeros((3,3))"
   ]
  },
  {
   "cell_type": "code",
   "execution_count": 42,
   "id": "570430f0-8d9c-4437-8d50-c7e61c96d2d1",
   "metadata": {},
   "outputs": [
    {
     "data": {
      "text/plain": [
       "'Q6. Create an identity matrix of shape (5,5) using numpy functions?'"
      ]
     },
     "execution_count": 42,
     "metadata": {},
     "output_type": "execute_result"
    }
   ],
   "source": [
    "'''Q6. Create an identity matrix of shape (5,5) using numpy functions?'''"
   ]
  },
  {
   "cell_type": "code",
   "execution_count": 43,
   "id": "1b36c363-ee2d-43ab-a14c-c327a0327471",
   "metadata": {},
   "outputs": [
    {
     "data": {
      "text/plain": [
       "array([[1., 1., 1., 1., 1.],\n",
       "       [1., 1., 1., 1., 1.],\n",
       "       [1., 1., 1., 1., 1.],\n",
       "       [1., 1., 1., 1., 1.],\n",
       "       [1., 1., 1., 1., 1.]])"
      ]
     },
     "execution_count": 43,
     "metadata": {},
     "output_type": "execute_result"
    }
   ],
   "source": [
    "np.ones((5,5))"
   ]
  },
  {
   "cell_type": "code",
   "execution_count": null,
   "id": "0bf79db5-e7c9-45c9-abe1-2915f07303ee",
   "metadata": {},
   "outputs": [],
   "source": []
  }
 ],
 "metadata": {
  "kernelspec": {
   "display_name": "Python 3 (ipykernel)",
   "language": "python",
   "name": "python3"
  },
  "language_info": {
   "codemirror_mode": {
    "name": "ipython",
    "version": 3
   },
   "file_extension": ".py",
   "mimetype": "text/x-python",
   "name": "python",
   "nbconvert_exporter": "python",
   "pygments_lexer": "ipython3",
   "version": "3.10.8"
  }
 },
 "nbformat": 4,
 "nbformat_minor": 5
}
